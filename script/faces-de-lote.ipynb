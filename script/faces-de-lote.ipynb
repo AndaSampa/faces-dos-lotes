{
 "cells": [
  {
   "cell_type": "code",
   "execution_count": 60,
   "source": [
    "import geopandas as gpd\r\n",
    "from shapely.geometry import Point, LineString, MultiPoint, MultiLineString\r\n",
    "from shapely.ops import nearest_points\r\n",
    "import pandas as pd\r\n",
    "import glob\r\n",
    "\r\n",
    "gdf_distritos = gpd.read_file('../download/SIRGAS_SHP_distrito/SIRGAS_SHP_distrito/SIRGAS_SHP_distrito_polygon.shp')\r\n",
    "#print(gdf_distritos[[\"ds_codigo\", \"ds_nome\"]])"
   ],
   "outputs": [],
   "metadata": {}
  },
  {
   "cell_type": "code",
   "execution_count": 61,
   "source": [
    "gdf_vias = gpd.read_file('../download\\SIRGAS_SHP_logradouronbl\\SIRGAS_SHP_logradouronbl\\SIRGAS_SHP_logradouronbl.shp')"
   ],
   "outputs": [],
   "metadata": {}
  },
  {
   "cell_type": "code",
   "execution_count": 62,
   "source": [
    "def centroide_por_segmento(linha):\r\n",
    "    segmentos = list(map(LineString, zip(linha.coords[:-1], linha.coords[1:])))\r\n",
    "    centroides = list(map(lambda x: x.centroid, segmentos))\r\n",
    "    return MultiPoint(centroides)"
   ],
   "outputs": [],
   "metadata": {}
  },
  {
   "cell_type": "code",
   "execution_count": 86,
   "source": [
    "def segmentos(linha):\r\n",
    "    segmentos = list(map(LineString, zip(linha.coords[:-1], linha.coords[1:])))\r\n",
    "    # centroides = list(map(lambda x: x.centroid, segmentos))\r\n",
    "    return MultiLineString(segmentos)"
   ],
   "outputs": [],
   "metadata": {}
  },
  {
   "cell_type": "code",
   "execution_count": 63,
   "source": [
    "## Para cada distrito\r\n",
    "folder = '../download/lotes'\r\n",
    "for path in glob.iglob(f\"{folder}/*90*\"):\r\n",
    "    cod_distrito = path.replace(f\"{folder}\\SIRGAS_SHP_LOTES_\", '')[0:2]\r\n",
    "    gdf_distrito = gdf_distritos[gdf_distritos.ds_codigo == cod_distrito]\r\n",
    "\r\n",
    "    ## Recorta NBL apenas do Distrito considerando um buffer de 20m\r\n",
    "    gdf_viario = gpd.clip(gdf_vias, gdf_distrito.buffer(30))\r\n",
    "\r\n",
    "    ## Dissolve a NBL por CODLOG\r\n",
    "    gdf_viario = gdf_viario.dissolve(by='lg_codlog').reset_index()\r\n",
    "\r\n",
    "    ## Abre o arquivo de lotes do distrito\r\n",
    "    gdf_lotes = gpd.read_file(f\"zip://{path}!{path.replace(folder, '').replace('.zip', '')[1:]}\")\r\n",
    "\r\n",
    "    ## Dissolve o arquivo de lotes por Setor, Quadra, Tipo e talvez Subquadra\r\n",
    "    gdf_lotes_dissolved = gdf_lotes.dissolve(by=['lo_setor', 'lo_quadra', 'lo_tp_quad']).reset_index()\r\n",
    "    gdf_faces = gdf_lotes.boundary\r\n",
    "\r\n",
    "    ## Calcula-se o centroide de cada segmento de linha de cada quadra\r\n",
    "    gdf_pontos_faces = gpd.GeoDataFrame(geometry=gdf_faces.geometry.apply(lambda x: centroide_por_segmento(x)))\r\n",
    "\r\n",
    "    ## Cria um buffer de alguns centimetros para o lote para certificar que o ponto esteja inserido nele\r\n",
    "    gdf_lotes_buffered = gpd.GeoDataFrame(gdf_lotes, geometry=gdf_lotes.buffer(.30))\r\n",
    "\r\n",
    "    ## Relaciona cada centroide de segmento de linha ao lote\r\n",
    "    gdf_pontos_lotes = gpd.sjoin(gdf_pontos_faces.reset_index().explode(), gdf_lotes_buffered, how='left')\r\n",
    "\r\n",
    "    ## Cria um viário unificado para projetar os pontos mais próximos\r\n",
    "    gdf_viario_unified = gdf_viario.unary_union\r\n",
    "    \r\n",
    "    ## Conecta-se o centroide de cada segmento de linha ao segmento de logradouro mais próximo\r\n",
    "    gdf_conexoes = gpd.GeoDataFrame(gdf_pontos_lotes, \\\r\n",
    "        geometry=gdf_pontos_lotes.geometry.apply(lambda x: \\\r\n",
    "            LineString(nearest_points(x, gdf_viario_unified))))\r\n",
    "\r\n",
    "    ## Cria Buffer de 50cm do viario\r\n",
    "    gdf_viario_buffered = gpd.GeoDataFrame(gdf_viario, geometry=gdf_viario.buffer(.50))\r\n",
    "\r\n",
    "    ## ajuste de indice\r\n",
    "    gdf_conexoes = gdf_conexoes.droplevel(level=1).reset_index()\\\r\n",
    "        .drop(columns=['index', 'level_0', 'index_right'])\r\n",
    "\r\n",
    "    ## Cria conexão com a via\r\n",
    "    gdf_conexoes_relacionadas = gpd.sjoin(gdf_conexoes, \\\r\n",
    "        gdf_viario_buffered[['lg_codlog', 'geometry']], how='left', op='intersects')\r\n",
    "    gdf_conexoes_relacionadas_buffered = gpd.GeoDataFrame(gdf_conexoes_relacionadas,\\\r\n",
    "        geometry=gdf_conexoes_relacionadas.buffer(.30))\r\n",
    "\r\n",
    "    ## Segmentos de faces de lotes\r\n",
    "    gdf_faces_segmentos = gpd.GeoDataFrame(geometry=gdf_faces.geometry.apply(lambda x: segmentos(x)))\r\n",
    "    gdf_faces_segmentos = gdf_faces_segmentos.explode().droplevel(0).reset_index()\r\n",
    "    \r\n",
    "    ## Relaciona-se essa conexão criada ao CODLOG e Lote\r\n",
    "    gdf_testadas = gpd.sjoin(gdf_faces_segmentos, gdf_conexoes_relacionadas_buffered.drop(columns='index_right'))\r\n",
    "\r\n",
    "    ## Dissolve-se os segmentos de linha das faces dos lotes em testadas por CODLOG agrupadas por Lote fiscal\r\n",
    "\r\n",
    "    ## Exporta os resultados para um arquivo contendo as testadas dos lotes do distrito selecionado\r\n"
   ],
   "outputs": [],
   "metadata": {}
  },
  {
   "cell_type": "code",
   "execution_count": null,
   "source": [],
   "outputs": [],
   "metadata": {}
  }
 ],
 "metadata": {
  "orig_nbformat": 4,
  "language_info": {
   "name": "python",
   "version": "3.8.10",
   "mimetype": "text/x-python",
   "codemirror_mode": {
    "name": "ipython",
    "version": 3
   },
   "pygments_lexer": "ipython3",
   "nbconvert_exporter": "python",
   "file_extension": ".py"
  },
  "kernelspec": {
   "name": "python3",
   "display_name": "Python 3.8.10 64-bit ('geo': conda)"
  },
  "interpreter": {
   "hash": "908a4c48a1c4924d969e586c0e1fa750734cfa9d48271eb93a402166d0f979f7"
  }
 },
 "nbformat": 4,
 "nbformat_minor": 2
}