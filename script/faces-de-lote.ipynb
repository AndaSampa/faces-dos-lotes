{
 "cells": [
  {
   "cell_type": "code",
   "execution_count": 1,
   "source": [
    "import geopandas as gpd\n",
    "from shapely.geometry import Point, LineString, MultiPoint, MultiLineString\n",
    "from shapely.ops import nearest_points\n",
    "import pandas as pd\n",
    "import glob\n",
    "\n",
    "gdf_distritos = gpd.read_file('../download/SIRGAS_SHP_distrito/SIRGAS_SHP_distrito_polygon.shp')\n",
    "#print(gdf_distritos[[\"ds_codigo\", \"ds_nome\"]])"
   ],
   "outputs": [],
   "metadata": {}
  },
  {
   "cell_type": "code",
   "execution_count": 2,
   "source": [
    "gdf_vias = gpd.read_file('../download/SIRGAS_SHP_logradouronbl/SIRGAS_SHP_logradouronbl.shp')"
   ],
   "outputs": [],
   "metadata": {}
  },
  {
   "cell_type": "code",
   "execution_count": 84,
   "source": [
    "gdf_quadras = gpd.read_file('../download/SIRGAS_SHP_quadraMDSF/SIRGAS_SHP_quadraMDSF.shp')"
   ],
   "outputs": [],
   "metadata": {}
  },
  {
   "cell_type": "code",
   "execution_count": 3,
   "source": [
    "def centroide_por_segmento(linha):\n",
    "    segmentos = list(map(LineString, zip(linha.coords[:-1], linha.coords[1:])))\n",
    "    centroides = list(map(lambda x: x.centroid, segmentos))\n",
    "    return MultiPoint(centroides)"
   ],
   "outputs": [],
   "metadata": {}
  },
  {
   "cell_type": "code",
   "execution_count": 4,
   "source": [
    "def segmentos(linha):\n",
    "    segmentos = list(map(LineString, zip(linha.coords[:-1], linha.coords[1:])))\n",
    "    # centroides = list(map(lambda x: x.centroid, segmentos))\n",
    "    return MultiLineString(segmentos)"
   ],
   "outputs": [],
   "metadata": {}
  },
  {
   "cell_type": "code",
   "execution_count": 82,
   "source": [
    "## Para cada distrito\n",
    "folder = '../download/lotes'\n",
    "for path in glob.iglob(f\"{folder}/*\"):\n",
    "    cod_distrito = path.replace(f\"{folder}/SIRGAS_SHP_LOTES_\", '')[0:2]\n",
    "    gdf_distrito = gdf_distritos[gdf_distritos.ds_codigo == cod_distrito]\n",
    "\n",
    "    ## Recorta NBL apenas do Distrito considerando um buffer de 20m\n",
    "    gdf_viario = gpd.clip(gdf_vias, gdf_distrito.buffer(30))\n",
    "\n",
    "    ## Dissolve a NBL por CODLOG\n",
    "    gdf_viario = gdf_viario.dissolve(by='lg_codlog').reset_index()\n",
    "\n",
    "    ## Abre o arquivo de lotes do distrito\n",
    "    gdf_lotes = gpd.read_file(f\"zip://{path}!{path.replace(folder, '').replace('.zip', '')[1:]}\")\n",
    "\n",
    "    ## Dissolve o arquivo de lotes por Setor, Quadra, Tipo e talvez Subquadra\n",
    "    gdf_lotes_dissolved = gdf_lotes.dissolve(by=['lo_setor', 'lo_quadra', 'lo_tp_quad']).reset_index()\n",
    "    gdf_faces = gpd.GeoDataFrame([], geometry=gdf_lotes_dissolved.boundary.explode().droplevel(0).reset_index().drop(columns='index')[0])\n",
    "\n",
    "    ## Calcula-se o centroide de cada segmento de linha de cada quadra\n",
    "    gdf_pontos_faces = gpd.GeoDataFrame(geometry=gdf_faces.geometry.apply(lambda x: centroide_por_segmento(x)))\n",
    "\n",
    "    ## Cria um buffer de alguns centimetros para o lote para certificar que o ponto esteja inserido nele\n",
    "    gdf_lotes_buffered = gpd.GeoDataFrame(gdf_lotes, geometry=gdf_lotes.buffer(.05))\n",
    "\n",
    "    ## Relaciona cada centroide de segmento de linha ao lote\n",
    "    gdf_pontos_lotes = gpd.sjoin(gdf_pontos_faces.reset_index().explode().droplevel(0).drop(columns='index'), gdf_lotes_buffered, how='left')\n",
    "\n",
    "    ## Cria um viário unificado para projetar os pontos mais próximos\n",
    "    gdf_viario_unified = gdf_viario.unary_union\n",
    "    \n",
    "    ## Conecta-se o centroide de cada segmento de linha ao segmento de logradouro mais próximo\n",
    "    gdf_pontos_lotes_copy = gdf_pontos_lotes.copy(deep=True)\n",
    "    gdf_conexoes = gpd.GeoDataFrame(gdf_pontos_lotes_copy, \\\n",
    "        geometry=gdf_pontos_lotes_copy.geometry.apply(lambda x: \\\n",
    "            LineString(nearest_points(x, gdf_viario_unified))))\n",
    "\n",
    "    ## Cria Buffer de 50cm do viario\n",
    "    gdf_viario_buffered = gpd.GeoDataFrame(gdf_viario, geometry=gdf_viario.buffer(.10))\n",
    "\n",
    "    ## ajuste de indice\n",
    "    gdf_conexoes = gdf_conexoes.drop(columns=['index_right'])\n",
    "\n",
    "    ## Cria conexão com a via\n",
    "    gdf_conexoes_relacionadas = gpd.sjoin(gdf_conexoes, \\\n",
    "        gdf_viario_buffered[['lg_codlog', 'geometry']], how='left', op='intersects')\n",
    "\n",
    "    ## Relaciona os pontos ao CODLOG\n",
    "    gdf_pontos_lotes_buffered = gpd.GeoDataFrame(gdf_pontos_lotes, geometry=gdf_pontos_lotes.buffer(0.01))\n",
    "    gdf_pontos_lote_buffered_relacionados = gpd.sjoin(gdf_pontos_lotes_buffered.drop(columns=['index_right']), gdf_conexoes_relacionadas[['lg_codlog', 'geometry']], how='left')\n",
    "\n",
    "    ## Segmentos de faces de lotes\n",
    "    gdf_faces_segmentos = gpd.GeoDataFrame(geometry=gdf_faces.geometry.apply(lambda x: segmentos(x)))\n",
    "    gdf_faces_segmentos = gdf_faces_segmentos.explode().droplevel(0).reset_index().drop(columns=['index'])  \n",
    "\n",
    "    # ## Relaciona-se essa conexão criada ao CODLOG e Lote\n",
    "    gdf_testadas = gpd.sjoin(gdf_faces_segmentos, gdf_pontos_lote_buffered_relacionados.drop(columns=['index_right']), how='left', op='intersects')\n",
    "\n",
    "    ## TODO\n",
    "    ## Remover \"sujeira\" de linhas internas na quadra. Sobrepondo a geometria das quadras fiscais\n",
    "\n",
    "    ## Dissolve-se os segmentos de linha das faces dos lotes em testadas por CODLOG agrupadas por Lote fiscal\n",
    "    gdf_testadas_dissolved = gdf_testadas.dissolve(by=['lo_setor', 'lo_quadra', 'lo_lote', 'lo_condomi', 'lo_tp_lote', 'lg_codlog'], as_index=False)\n",
    "\n",
    "    ## Ajustando o SRC\n",
    "    gdf_testadas_dissolved = gdf_testadas_dissolved.set_crs('epsg:31983')\n",
    "\n",
    "    ## Exporta os resultados para um arquivo contendo as testadas dos lotes do distrito selecionado\n",
    "    distrito_prefix = path.replace(f\"{folder}/SIRGAS_SHP_LOTES_\", '')[0:].replace('.zip', '').replace('_', '-').lower()\n",
    "    gdf_testadas_dissolved.to_file(f\"../resultados/{distrito_prefix}-testadas.gpkg\", driver='GPKG')\n",
    "\n",
    "    ## Grava Log\n",
    "    print(distrito_prefix)\n"
   ],
   "outputs": [
    {
     "output_type": "stream",
     "name": "stdout",
     "text": [
      "90-vila-mariana\n"
     ]
    }
   ],
   "metadata": {}
  },
  {
   "cell_type": "code",
   "execution_count": null,
   "source": [],
   "outputs": [],
   "metadata": {}
  }
 ],
 "metadata": {
  "orig_nbformat": 4,
  "language_info": {
   "name": "python",
   "version": "3.8.11",
   "mimetype": "text/x-python",
   "codemirror_mode": {
    "name": "ipython",
    "version": 3
   },
   "pygments_lexer": "ipython3",
   "nbconvert_exporter": "python",
   "file_extension": ".py"
  },
  "kernelspec": {
   "name": "python3",
   "display_name": "Python 3.8.2 64-bit ('geo': conda)"
  },
  "interpreter": {
   "hash": "1e94f94c3dc9cb9ecdb50465f759d70d8afbee71b2fe12a78bdcd721d76e1ec6"
  }
 },
 "nbformat": 4,
 "nbformat_minor": 2
}