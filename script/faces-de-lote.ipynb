{
 "cells": [
  {
   "cell_type": "code",
   "execution_count": 2,
   "source": [
    "import geopandas as gpd\r\n",
    "from shapely.geometry import Point, LineString, MultiPoint, MultiLineString\r\n",
    "from shapely.ops import nearest_points\r\n",
    "import pandas as pd\r\n",
    "import glob\r\n",
    "import os\r\n",
    "\r\n",
    "#print(gdf_distritos[[\"ds_codigo\", \"ds_nome\"]])"
   ],
   "outputs": [],
   "metadata": {}
  },
  {
   "cell_type": "code",
   "execution_count": 3,
   "source": [
    "gdf_distritos = gpd.read_file(os.path.join(os.pardir, \"download\", \"SIRGAS_SHP_distrito\", \"SIRGAS_SHP_distrito\", \"SIRGAS_SHP_distrito_polygon.shp\"))"
   ],
   "outputs": [],
   "metadata": {}
  },
  {
   "cell_type": "code",
   "execution_count": 4,
   "source": [
    "gdf_vias = gpd.read_file(os.path.join(os.pardir, \"download\", \"SIRGAS_SHP_logradouronbl\", \"SIRGAS_SHP_logradouronbl\", \"SIRGAS_SHP_logradouronbl.shp\"))"
   ],
   "outputs": [],
   "metadata": {}
  },
  {
   "cell_type": "code",
   "execution_count": 5,
   "source": [
    "#gdf_quadras = gpd.read_file('../download/SIRGAS_SHP_quadraMDSF/SIRGAS_SHP_quadraMDSF/SIRGAS_SHP_quadraMDSF.shp')"
   ],
   "outputs": [],
   "metadata": {}
  },
  {
   "cell_type": "code",
   "execution_count": 6,
   "source": [
    "def centroide_por_segmento(linha):\r\n",
    "    segmentos = list(map(LineString, zip(linha.coords[:-1], linha.coords[1:])))\r\n",
    "    centroides = list(map(lambda x: x.centroid, segmentos))\r\n",
    "    return MultiPoint(centroides)"
   ],
   "outputs": [],
   "metadata": {}
  },
  {
   "cell_type": "code",
   "execution_count": 7,
   "source": [
    "def segmentos(linha):\r\n",
    "    segmentos = list(map(LineString, zip(linha.coords[:-1], linha.coords[1:])))\r\n",
    "    # centroides = list(map(lambda x: x.centroid, segmentos))\r\n",
    "    return MultiLineString(segmentos)"
   ],
   "outputs": [],
   "metadata": {}
  },
  {
   "cell_type": "code",
   "execution_count": 16,
   "source": [
    "## Para cada distrito\r\n",
    "folder = '../download/lotes'\r\n",
    "for path in glob.iglob(f\"{folder}/*90*\"):\r\n",
    "    cod_distrito = path.replace(f\"{folder}\\\\SIRGAS_SHP_LOTES_\", '')[0:2]\r\n",
    "    gdf_distrito = gdf_distritos[gdf_distritos.ds_codigo == str(int(cod_distrito))]\r\n",
    "\r\n",
    "    ## Recorta NBL apenas do Distrito considerando um buffer de 20m\r\n",
    "    gdf_viario = gpd.clip(gdf_vias, gdf_distrito.buffer(30))\r\n",
    "\r\n",
    "    ## Dissolve a NBL por CODLOG\r\n",
    "    gdf_viario = gdf_viario.dissolve(by='lg_codlog').reset_index()\r\n",
    "\r\n",
    "    ## Abre o arquivo de lotes do distrito\r\n",
    "    gdf_lotes = gpd.read_file(f\"zip://{path}!{path.replace(folder, '').replace('.zip', '')[1:]}\")\r\n",
    "\r\n",
    "    ## Cria um viário unificado para projetar os pontos mais próximos\r\n",
    "    gdf_viario_unified = gdf_viario.unary_union\r\n",
    "\r\n",
    "    ## Remove os lotes do Tipo V que são sobrepostos por viário\r\n",
    "    gdf_lotes_v_vias = gdf_lotes[gdf_lotes.lo_tp_lote == 'V'].geometry.intersects(gdf_viario_unified)\r\n",
    "    gdf_lotes.drop(gdf_lotes_v_vias[gdf_lotes_v_vias].index, inplace=True)\r\n",
    "\r\n",
    "    ## Remove os lotes do Tipo V que NÃO SÃO sobrepostos por viários e criar um segmento de linha com CODLOG provisório para conectar a testada\r\n",
    "    gdf_viario = gpd.GeoDataFrame(pd.concat([gdf_viario, gpd.GeoDataFrame(pd.Series(gdf_lotes.loc[gdf_lotes.lo_tp_lote == 'V', ['lo_tp_lote', 'lo_setor', 'lo_quadra', 'lo_lote']].values.tolist(), index=gdf_lotes[gdf_lotes.lo_tp_lote == 'V'].index, name='lg_codlog').str.join(''), geometry=gdf_lotes[gdf_lotes.lo_tp_lote == 'V'].buffer(-.5).boundary)]))\r\n",
    "    gdf_viario_unified = gdf_viario.unary_union\r\n",
    "\r\n",
    "    ## Removendo lotes tipo V\r\n",
    "    gdf_lotes = gdf_lotes[gdf_lotes.lo_tp_lote != 'V']\r\n",
    "\r\n",
    "    ## Dissolve o arquivo de lotes por Setor, Quadra, Tipo e talvez Subquadra\r\n",
    "    gdf_lotes_dissolved = gdf_lotes.dissolve(by=['lo_setor', 'lo_quadra', 'lo_tp_quad']).reset_index()\r\n",
    "    gdf_faces = gpd.GeoDataFrame([], geometry=gdf_lotes_dissolved.explode().exterior.droplevel(1).reset_index().drop(columns='index')[0])\r\n",
    "    # gdf_faces = gpd.GeoDataFrame([], geometry=gdf_lotes_dissolved.boundary.explode().droplevel(0).reset_index().drop(columns='index')[0])\r\n",
    "\r\n",
    "    ## Calcula-se o centroide de cada segmento de linha de cada quadra\r\n",
    "    gdf_pontos_faces = gpd.GeoDataFrame(geometry=gdf_faces.geometry.apply(lambda x: centroide_por_segmento(x)))\r\n",
    "\r\n",
    "    ## Cria um buffer de alguns centimetros para o lote para certificar que o ponto esteja inserido nele\r\n",
    "    gdf_lotes_buffered = gpd.GeoDataFrame(gdf_lotes, geometry=gdf_lotes.buffer(.05))\r\n",
    "\r\n",
    "    ## Relaciona cada centroide de segmento de linha ao lote\r\n",
    "    gdf_pontos_lotes = gpd.sjoin(gdf_pontos_faces.reset_index().explode().droplevel(0).drop(columns='index'), gdf_lotes_buffered, how='left')\r\n",
    "    \r\n",
    "    ## Conecta-se o centroide de cada segmento de linha ao segmento de logradouro mais próximo\r\n",
    "    gdf_pontos_lotes_copy = gdf_pontos_lotes.copy(deep=True)\r\n",
    "    gdf_conexoes = gpd.GeoDataFrame(gdf_pontos_lotes_copy, \\\r\n",
    "        geometry=gdf_pontos_lotes_copy.geometry.apply(lambda x: \\\r\n",
    "            LineString(nearest_points(x, gdf_viario_unified))))\r\n",
    "\r\n",
    "    ## Cria Buffer de 50cm do viario\r\n",
    "    gdf_viario_buffered = gpd.GeoDataFrame(gdf_viario, geometry=gdf_viario.buffer(.10))\r\n",
    "\r\n",
    "    ## ajuste de indice\r\n",
    "    gdf_conexoes = gdf_conexoes.drop(columns=['index_right'])\r\n",
    "\r\n",
    "    ## Cria conexão com a via\r\n",
    "    gdf_conexoes_relacionadas = gpd.sjoin(gdf_conexoes, \\\r\n",
    "        gdf_viario_buffered[['lg_codlog', 'geometry']], how='left', op='intersects')\r\n",
    "\r\n",
    "    ## Relaciona os pontos ao CODLOG\r\n",
    "    gdf_pontos_lotes_buffered = gpd.GeoDataFrame(gdf_pontos_lotes, geometry=gdf_pontos_lotes.buffer(0.01))\r\n",
    "    gdf_pontos_lote_buffered_relacionados = gpd.sjoin(gdf_pontos_lotes_buffered.drop(columns=['index_right']), gdf_conexoes_relacionadas[['lg_codlog', 'geometry']], how='left')\r\n",
    "\r\n",
    "    ## Segmentos de faces de lotes\r\n",
    "    gdf_faces_segmentos = gpd.GeoDataFrame(geometry=gdf_faces.geometry.apply(lambda x: segmentos(x)))\r\n",
    "    gdf_faces_segmentos = gdf_faces_segmentos.explode().droplevel(0).reset_index().drop(columns=['index'])  \r\n",
    "\r\n",
    "    # ## Relaciona-se essa conexão criada ao CODLOG e Lote\r\n",
    "    gdf_testadas = gpd.sjoin(gdf_faces_segmentos, gdf_pontos_lote_buffered_relacionados.drop(columns=['index_right']), how='left', op='intersects')\r\n",
    "\r\n",
    "    ## Dissolve-se os segmentos de linha das faces dos lotes em testadas por CODLOG agrupadas por Lote fiscal\r\n",
    "    gdf_testadas_dissolved = gdf_testadas.dissolve(by=['lo_setor', 'lo_quadra', 'lo_lote', 'lo_condomi', 'lo_tp_lote', 'lg_codlog'], as_index=False)\r\n",
    "\r\n",
    "    ## Ajustando o SRC\r\n",
    "    gdf_testadas_dissolved = gdf_testadas_dissolved.set_crs('epsg:31983')\r\n",
    "\r\n",
    "    ## Exporta os resultados para um arquivo contendo as testadas dos lotes do distrito selecionado\r\n",
    "    distrito_prefix = path.replace(f\"{folder}\\\\SIRGAS_SHP_LOTES_\", '')[0:].replace('.zip', '').replace('_', '-').lower()\r\n",
    "    gdf_testadas_dissolved.to_file(f\"../resultados/{distrito_prefix}-testadas.gpkg\", driver='GPKG')\r\n",
    "\r\n",
    "    ## Grava Log\r\n",
    "    print(distrito_prefix)\r\n"
   ],
   "outputs": [
    {
     "output_type": "stream",
     "name": "stdout",
     "text": [
      "90-vila-mariana\n"
     ]
    }
   ],
   "metadata": {}
  },
  {
   "cell_type": "code",
   "execution_count": null,
   "source": [],
   "outputs": [],
   "metadata": {}
  }
 ],
 "metadata": {
  "orig_nbformat": 4,
  "language_info": {
   "name": "python",
   "version": "3.8.10",
   "mimetype": "text/x-python",
   "codemirror_mode": {
    "name": "ipython",
    "version": 3
   },
   "pygments_lexer": "ipython3",
   "nbconvert_exporter": "python",
   "file_extension": ".py"
  },
  "kernelspec": {
   "name": "python3",
   "display_name": "Python 3.8.10 64-bit ('geo': conda)"
  },
  "interpreter": {
   "hash": "908a4c48a1c4924d969e586c0e1fa750734cfa9d48271eb93a402166d0f979f7"
  }
 },
 "nbformat": 4,
 "nbformat_minor": 2
}